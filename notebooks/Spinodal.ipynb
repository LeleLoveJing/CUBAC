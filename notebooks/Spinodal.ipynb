{
 "cells": [
  {
   "cell_type": "markdown",
   "metadata": {},
   "source": [
    "# Spinodal\n",
    "\n",
    "A tiny notebook demonstrating how to calculate the spinodal densities for a subcritical isotherm"
   ]
  },
  {
   "cell_type": "code",
   "execution_count": 4,
   "metadata": {
    "collapsed": false
   },
   "outputs": [
    {
     "name": "stdout",
     "output_type": "stream",
     "text": [
      "IPython console for SymPy 1.0 (Python 2.7.11-32-bit) (ground types: python)\n"
     ]
    }
   ],
   "source": [
    "from IPython.display import display, Math, Latex\n",
    "from IPython.core.display import display_html\n",
    "from sympy import *\n",
    "init_session(quiet=True)\n",
    "init_printing()"
   ]
  },
  {
   "cell_type": "code",
   "execution_count": null,
   "metadata": {
    "collapsed": false,
    "scrolled": true
   },
   "outputs": [],
   "source": [
    "R,T,v,b,a,Delta_1,Delta_2,p,Z,A,B,rho = symbols('R,T,v,b,a,Delta_1,Delta_2,p,Z,A,B,rho')\n",
    "p=(R*T/(v-b)-a/(v+Delta_1*b)/(v+Delta_2*b)).subs(v,1/rho)\n",
    "dpdrho = diff(p,rho)\n",
    "out = factor(expand(dpdrho*(1/rho-b)**2*(Delta_1*b+1/rho)**2*(Delta_2*b+1/rho)**2),rho)\n",
    "print(out)\n",
    "display(out)"
   ]
  },
  {
   "cell_type": "code",
   "execution_count": null,
   "metadata": {
    "collapsed": true
   },
   "outputs": [],
   "source": []
  }
 ],
 "metadata": {
  "kernelspec": {
   "display_name": "Python 2",
   "language": "python",
   "name": "python2"
  },
  "language_info": {
   "codemirror_mode": {
    "name": "ipython",
    "version": 2
   },
   "file_extension": ".py",
   "mimetype": "text/x-python",
   "name": "python",
   "nbconvert_exporter": "python",
   "pygments_lexer": "ipython2",
   "version": "2.7.11"
  }
 },
 "nbformat": 4,
 "nbformat_minor": 0
}
